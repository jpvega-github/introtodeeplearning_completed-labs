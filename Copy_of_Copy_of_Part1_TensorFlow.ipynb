{
  "nbformat": 4,
  "nbformat_minor": 0,
  "metadata": {
    "colab": {
      "name": "Copy of Copy of Part1_TensorFlow.ipynb",
      "provenance": [],
      "collapsed_sections": [],
      "include_colab_link": true
    },
    "kernelspec": {
      "name": "python3",
      "display_name": "Python 3"
    },
    "accelerator": "GPU",
    "gpuClass": "standard"
  },
  "cells": [
    {
      "cell_type": "markdown",
      "metadata": {
        "id": "view-in-github",
        "colab_type": "text"
      },
      "source": [
        "<a href=\"https://colab.research.google.com/github/jpvega-github/introtodeeplearning_completed-labs/blob/main/Copy_of_Copy_of_Part1_TensorFlow.ipynb\" target=\"_parent\"><img src=\"https://colab.research.google.com/assets/colab-badge.svg\" alt=\"Open In Colab\"/></a>"
      ]
    },
    {
      "cell_type": "markdown",
      "metadata": {
        "id": "WBk0ZDWY-ff8"
      },
      "source": [
        "<table align=\"center\">\n",
        "  <td align=\"center\"><a target=\"_blank\" href=\"http://introtodeeplearning.com\">\n",
        "        <img src=\"https://i.ibb.co/Jr88sn2/mit.png\" style=\"padding-bottom:5px;\" />\n",
        "      Visit MIT Deep Learning</a></td>\n",
        "  <td align=\"center\"><a target=\"_blank\" href=\"https://colab.research.google.com/github/aamini/introtodeeplearning/blob/master/lab1/Part1_TensorFlow.ipynb\">\n",
        "        <img src=\"https://i.ibb.co/2P3SLwK/colab.png\"  style=\"padding-bottom:5px;\" />Run in Google Colab</a></td>\n",
        "  <td align=\"center\"><a target=\"_blank\" href=\"https://github.com/aamini/introtodeeplearning/blob/master/lab1/Part1_TensorFlow.ipynb\">\n",
        "        <img src=\"https://i.ibb.co/xfJbPmL/github.png\"  height=\"70px\" style=\"padding-bottom:5px;\"  />View Source on GitHub</a></td>\n",
        "</table>\n",
        "\n",
        "\n",
        "# Copyright Information\n"
      ]
    },
    {
      "cell_type": "code",
      "metadata": {
        "id": "3eI6DUic-6jo"
      },
      "source": [
        "# Copyright 2021 MIT 6.S191 Introduction to Deep Learning. All Rights Reserved.\n",
        "# \n",
        "# Licensed under the MIT License. You may not use this file except in compliance\n",
        "# with the License. Use and/or modification of this code outside of 6.S191 must\n",
        "# reference:\n",
        "#\n",
        "# © MIT 6.S191: Introduction to Deep Learning\n",
        "# http://introtodeeplearning.com\n",
        "#\n",
        "# This file has been modified by Jennifer Vega.\n",
        "# Modification include, but are not limited to additional notes for \n",
        "# further explanation and study as well examples and a brief calculus review section.\n"
      ],
      "execution_count": 1,
      "outputs": []
    },
    {
      "cell_type": "markdown",
      "metadata": {
        "id": "57knM8jrYZ2t"
      },
      "source": [
        "# Lab 1: Intro to TensorFlow and Music Generation with RNNs\n",
        "\n",
        "In this lab, you'll get exposure to using TensorFlow and learn how it can be used for solving deep learning tasks. Go through the code and run each cell. Along the way, you'll encounter several ***TODO*** blocks -- follow the instructions to fill them out before running those cells and continuing.\n",
        "\n",
        "\n",
        "# Part 1: Intro to TensorFlow\n",
        "\n",
        "## 0.1 Install TensorFlow\n",
        "\n",
        "TensorFlow is a software library extensively used in machine learning. Here we'll learn how computations are represented and how to define a simple neural network in TensorFlow. For all the labs in 6.S191 2021, we'll be using the latest version of TensorFlow, TensorFlow 2, which affords great flexibility and the ability to imperatively execute operations, just like in Python. You'll notice that TensorFlow 2 is quite similar to Python in its syntax and imperative execution. Let's install TensorFlow and a couple of dependencies.\n"
      ]
    },
    {
      "cell_type": "code",
      "metadata": {
        "id": "LkaimNJfYZ2w",
        "colab": {
          "base_uri": "https://localhost:8080/"
        },
        "outputId": "71c49d6a-64c3-4b8f-89f5-2f326f6ca1c1"
      },
      "source": [
        "%tensorflow_version 2.x\n",
        "import tensorflow as tf\n",
        "\n",
        "# Download and import the MIT 6.S191 package\n",
        "!pip install mitdeeplearning\n",
        "import mitdeeplearning as mdl\n",
        "\n",
        "import numpy as np\n",
        "import matplotlib.pyplot as plt"
      ],
      "execution_count": 2,
      "outputs": [
        {
          "output_type": "stream",
          "name": "stdout",
          "text": [
            "Looking in indexes: https://pypi.org/simple, https://us-python.pkg.dev/colab-wheels/public/simple/\n",
            "Collecting mitdeeplearning\n",
            "  Downloading mitdeeplearning-0.2.0.tar.gz (2.1 MB)\n",
            "\u001b[K     |████████████████████████████████| 2.1 MB 12.6 MB/s \n",
            "\u001b[?25hRequirement already satisfied: numpy in /usr/local/lib/python3.7/dist-packages (from mitdeeplearning) (1.21.6)\n",
            "Requirement already satisfied: regex in /usr/local/lib/python3.7/dist-packages (from mitdeeplearning) (2022.6.2)\n",
            "Requirement already satisfied: tqdm in /usr/local/lib/python3.7/dist-packages (from mitdeeplearning) (4.64.0)\n",
            "Requirement already satisfied: gym in /usr/local/lib/python3.7/dist-packages (from mitdeeplearning) (0.17.3)\n",
            "Requirement already satisfied: cloudpickle<1.7.0,>=1.2.0 in /usr/local/lib/python3.7/dist-packages (from gym->mitdeeplearning) (1.3.0)\n",
            "Requirement already satisfied: pyglet<=1.5.0,>=1.4.0 in /usr/local/lib/python3.7/dist-packages (from gym->mitdeeplearning) (1.5.0)\n",
            "Requirement already satisfied: scipy in /usr/local/lib/python3.7/dist-packages (from gym->mitdeeplearning) (1.7.3)\n",
            "Requirement already satisfied: future in /usr/local/lib/python3.7/dist-packages (from pyglet<=1.5.0,>=1.4.0->gym->mitdeeplearning) (0.16.0)\n",
            "Building wheels for collected packages: mitdeeplearning\n",
            "  Building wheel for mitdeeplearning (setup.py) ... \u001b[?25l\u001b[?25hdone\n",
            "  Created wheel for mitdeeplearning: filename=mitdeeplearning-0.2.0-py3-none-any.whl size=2115442 sha256=564e412b7b905275b431903f42fe74cf466c06cbf749403cf2ba521f485486f3\n",
            "  Stored in directory: /root/.cache/pip/wheels/9a/b9/4f/99b7c8c5c75355550b83e1fcfc02956fb40c35eb01e2262877\n",
            "Successfully built mitdeeplearning\n",
            "Installing collected packages: mitdeeplearning\n",
            "Successfully installed mitdeeplearning-0.2.0\n"
          ]
        }
      ]
    },
    {
      "cell_type": "code",
      "metadata": {
        "colab": {
          "base_uri": "https://localhost:8080/"
        },
        "id": "WpkJiQpNGRNL",
        "outputId": "4c2f2a21-702e-464a-8f93-e8c0c31ed668"
      },
      "source": [
        "from google.colab import drive\n",
        "drive.mount('/content/drive')"
      ],
      "execution_count": 169,
      "outputs": [
        {
          "output_type": "stream",
          "name": "stdout",
          "text": [
            "Drive already mounted at /content/drive; to attempt to forcibly remount, call drive.mount(\"/content/drive\", force_remount=True).\n"
          ]
        }
      ]
    },
    {
      "cell_type": "markdown",
      "metadata": {
        "id": "Z0dEpNZrYfWc"
      },
      "source": [
        "# **MORE ABOUT \"SHAPES\"**\n",
        "\n",
        "\n",
        "---\n",
        "Tensors have shapes. Some vocabulary:\n",
        "\n",
        "###***Shape***: \n",
        "The length (number of elements) of each of the axes of a tensor.\n",
        "\n",
        "###***Rank***: \n",
        "Number of tensor axes. A scalar has rank 0, a vector has rank 1, a matrix is rank 2.\n",
        "\n",
        "###***Axis or Dimension***: \n",
        "A particular dimension of a tensor.\n",
        "Size: The total number of items in the tensor, the product shape vector.\n",
        "\n",
        "\n",
        "---\n",
        "##**EXAMPLE**\n",
        "---\n",
        "There are many ways you might visualize a tensor with more than two axes.\n",
        "##### Here is a 3-axis tensor, shape: [3, 2, 5]\n",
        "\n",
        "![3-axis_block.png](data:image/png;base64,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)\n",
        "\n",
        "![3-axis_numpy.png](data:image/png;base64,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)\n",
        "\n",
        "![image.png](data:image/png;base64,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)\n",
        "\n",
        "\n",
        "####**EXAMPLE**\n",
        "A rank-4 tensor, shape: [3, 2, 4, 5]\n",
        "\n",
        "![shape.png](data:image/png;base64,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)\n",
        "![4-axis_block.png](data:image/png;base64,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)\n"
      ]
    },
    {
      "cell_type": "markdown",
      "metadata": {
        "id": "2QNMcdP4m3Vs"
      },
      "source": [
        "## 1.1 Why is TensorFlow called TensorFlow?\n",
        "\n",
        "TensorFlow is called 'TensorFlow' because it handles the flow (node/mathematical operation) of Tensors, which are data structures that you can think of as multi-dimensional arrays. Tensors are represented as n-dimensional arrays of base dataypes such as a string or integer -- they provide a way to generalize vectors and matrices to higher dimensions.\n",
        "\n",
        "The ```shape``` of a Tensor defines its number of dimensions and the size of each dimension. The ```rank``` of a Tensor provides the number of dimensions (n-dimensions) -- you can also think of this as the Tensor's order or degree.\n",
        "\n",
        "Let's first look at 0-d Tensors, of which a scalar is an example:"
      ]
    },
    {
      "cell_type": "code",
      "metadata": {
        "id": "tFxztZQInlAB",
        "colab": {
          "base_uri": "https://localhost:8080/"
        },
        "outputId": "5f65dac0-b9ee-4309-afe3-ddfc3ce39e5f"
      },
      "source": [
        "sport = tf.constant(\"Tennis\", tf.string)\n",
        "number = tf.constant(1.41421356237, tf.float64)\n",
        "\n",
        "print(\"`sport` is a {}-d Tensor\".format(tf.rank(sport).numpy()))\n",
        "print(\"`number` is a {}-d Tensor\".format(tf.rank(number).numpy()))"
      ],
      "execution_count": 4,
      "outputs": [
        {
          "output_type": "stream",
          "name": "stdout",
          "text": [
            "`sport` is a 0-d Tensor\n",
            "`number` is a 0-d Tensor\n"
          ]
        }
      ]
    },
    {
      "cell_type": "markdown",
      "metadata": {
        "id": "-dljcPUcoJZ6"
      },
      "source": [
        "Vectors and lists can be used to create 1-d Tensors:"
      ]
    },
    {
      "cell_type": "code",
      "metadata": {
        "id": "oaHXABe8oPcO",
        "colab": {
          "base_uri": "https://localhost:8080/"
        },
        "outputId": "c77f5725-9282-4b5e-a1c6-c6847475c2e8"
      },
      "source": [
        "sports = tf.constant([\"Tennis\", \"Basketball\"], tf.string)\n",
        "numbers = tf.constant([3.141592, 1.414213, 2.71821], tf.float64)\n",
        "\n",
        "print(\"`sports` is a {}-d Tensor with shape: {}\".format(tf.rank(sports).numpy(), tf.shape(sports)))\n",
        "print(\"`numbers` is a {}-d Tensor with shape: {}\".format(tf.rank(numbers).numpy(), tf.shape(numbers)))"
      ],
      "execution_count": 5,
      "outputs": [
        {
          "output_type": "stream",
          "name": "stdout",
          "text": [
            "`sports` is a 1-d Tensor with shape: [2]\n",
            "`numbers` is a 1-d Tensor with shape: [3]\n"
          ]
        }
      ]
    },
    {
      "cell_type": "markdown",
      "metadata": {
        "id": "gvffwkvtodLP"
      },
      "source": [
        "Next we consider creating 2-d (i.e., matrices) and higher-rank Tensors. For examples, in future labs involving image processing and computer vision, we will use 4-d Tensors. Here the dimensions correspond to the number of example images in our batch, image height, image width, and the number of color channels."
      ]
    },
    {
      "cell_type": "code",
      "metadata": {
        "id": "tFeBBe1IouS3",
        "outputId": "8ead23f9-d219-44f9-b6b9-74ea625dca9b",
        "colab": {
          "base_uri": "https://localhost:8080/"
        }
      },
      "source": [
        "### Defining higher-order Tensors ###\n",
        "\n",
        "'''TODO: Define a 2-d Tensor'''\n",
        "#matrix = # TODO\n",
        "matrix = tf.constant([[317.1, 317.2, 317.3], \n",
        "                      [317.4, 317.5, 317.6]])\n",
        "\n",
        "assert isinstance(matrix, tf.Tensor), \"matrix must be a tf Tensor object\"\n",
        "assert tf.rank(matrix).numpy() == 2\n",
        "print(\"`matrix` is a {}-d Tensor with shape: {}\".format(tf.rank(matrix).numpy(), tf.shape(matrix)))"
      ],
      "execution_count": 16,
      "outputs": [
        {
          "output_type": "stream",
          "name": "stdout",
          "text": [
            "`matrix` is a 2-d Tensor with shape: [2 3]\n"
          ]
        }
      ]
    },
    {
      "cell_type": "code",
      "source": [
        "'''LET'S PLAY: Define a 2-d Tensor'''\n",
        "matrix = tf.constant([[317.1, 317.2, 317.3], \n",
        "                      [317.4, 317.5, 317.6],\n",
        "                      [317.1, 317.2, 317.3], \n",
        "                      [317.4, 317.5, 317.6],\n",
        "                      [317.1, 317.2, 317.3], \n",
        "                      [317.4, 317.5, 317.6],\n",
        "                      [317.1, 317.2, 317.3]])\n",
        "\n",
        "assert isinstance(matrix, tf.Tensor), \"matrix must be a tf Tensor object\"\n",
        "assert tf.rank(matrix).numpy() == 2\n",
        "print(\"`matrix` is a {}-d Tensor with shape: {}\".format(tf.rank(matrix).numpy(), tf.shape(matrix)))"
      ],
      "metadata": {
        "colab": {
          "base_uri": "https://localhost:8080/"
        },
        "id": "N2BHwy0MrsWh",
        "outputId": "6ced5967-1022-4f28-e3f2-81a19a2f0ec0"
      },
      "execution_count": 12,
      "outputs": [
        {
          "output_type": "stream",
          "name": "stdout",
          "text": [
            "`matrix` is a 2-d Tensor with shape: [7 3]\n"
          ]
        }
      ]
    },
    {
      "cell_type": "code",
      "source": [
        "'''LET'S PLAY: Define a 3-d Tensor'''\n",
        "matrix_3D_tensor = tf.constant([[[317.1, 317.2, 317.3], \n",
        "                                 [317.4, 317.5, 317.6], \n",
        "                                 [317.1, 317.2, 317.3],\n",
        "                                 [317.4, 317.5, 317.6]]])\n",
        "\n",
        "assert isinstance(matrix_3D_tensor, tf.Tensor), \"matrix_3D_tensor must be a tf Tensor object\"\n",
        "assert tf.rank(matrix_3D_tensor).numpy() == 3\n",
        "print(\"`matrix_3D_tensor` is a {}-d Tensor with shape: {}\".format(tf.rank(matrix_3D_tensor).numpy(), tf.shape(matrix_3D_tensor)))"
      ],
      "metadata": {
        "id": "_8TNmIH-oAo9",
        "outputId": "e7e79c28-72a0-44f2-bec2-be3cf1064927",
        "colab": {
          "base_uri": "https://localhost:8080/"
        }
      },
      "execution_count": 14,
      "outputs": [
        {
          "output_type": "stream",
          "name": "stdout",
          "text": [
            "`matrix_3D_tensor` is a 3-d Tensor with shape: [1 4 3]\n"
          ]
        }
      ]
    },
    {
      "cell_type": "code",
      "source": [
        "'''LET'S PLAY: Define a 3-d Tensor with '''\n",
        "matrix_3D_tensor_fun = tf.constant([[[317.1, 317.2, 317.3], \n",
        "                                     [317.4, 317.5, 317.6], \n",
        "                                     [317.7, 317.8, 317.9],\n",
        "                                     [317.7, 317.8, 317.9]], \n",
        "                                    [[317.1, 317.2, 317.3], \n",
        "                                     [317.4, 317.5, 317.6], \n",
        "                                     [317.1, 317.2, 317.3], \n",
        "                                     [317.7, 317.8, 317.9]]])\n",
        "\n",
        "assert isinstance(matrix_3D_tensor_fun, tf.Tensor), \"matrix_3D_tensor must be a tf Tensor object\"\n",
        "assert tf.rank(matrix_3D_tensor_fun).numpy() == 3\n",
        "print(\"`matrix_3D_tensor_fun` is a {}-d Tensor with shape: {}\".format(tf.rank(matrix_3D_tensor_fun).numpy(), tf.shape(matrix_3D_tensor_fun)))"
      ],
      "metadata": {
        "id": "-9ML3m4cohCP",
        "outputId": "c3892a67-5aa0-4264-8929-dc696a0be742",
        "colab": {
          "base_uri": "https://localhost:8080/"
        }
      },
      "execution_count": 15,
      "outputs": [
        {
          "output_type": "stream",
          "name": "stdout",
          "text": [
            "`matrix_3D_tensor_fun` is a 3-d Tensor with shape: [2 4 3]\n"
          ]
        }
      ]
    },
    {
      "cell_type": "code",
      "source": [
        "### Defining higher-order Tensors ###\n",
        "\n",
        "'''LET'S PLAY: Define a 3-d Tensor with '''\n",
        "matrix_3D_tensor_funfun = tf.constant([[[317.1, 317.2, 317.3], \n",
        "                                        [317.4, 317.5, 317.6], \n",
        "                                        [317.7, 317.8, 317.9],\n",
        "                                        [317.7, 317.8, 317.9]], \n",
        "                                       [[317.1, 317.2, 317.3], \n",
        "                                        [317.4, 317.5, 317.6], \n",
        "                                        [317.1, 317.2, 317.3], \n",
        "                                        [317.7, 317.8, 317.9]], \n",
        "                                       [[317.1, 317.2, 317.3], \n",
        "                                        [317.4, 317.5, 317.6], \n",
        "                                        [317.1, 317.2, 317.3], \n",
        "                                        [317.7, 317.8, 317.9]]])\n",
        "\n",
        "assert isinstance(matrix_3D_tensor_funfun, tf.Tensor), \"matrix_3D_tensor must be a tf Tensor object\"\n",
        "assert tf.rank(matrix_3D_tensor_funfun).numpy() == 3\n",
        "print(\"`matrix_3D_tensor_funfun` is a {}-d Tensor with shape: {}\".format(tf.rank(matrix_3D_tensor_funfun).numpy(), tf.shape(matrix_3D_tensor_funfun)))"
      ],
      "metadata": {
        "id": "pf-f9s3Lo9SQ",
        "outputId": "09fff912-b46f-44ea-915e-54a260e74e45",
        "colab": {
          "base_uri": "https://localhost:8080/"
        }
      },
      "execution_count": null,
      "outputs": [
        {
          "output_type": "stream",
          "name": "stdout",
          "text": [
            "`matrix_3D_tensor_funfun` is a 3-d Tensor with shape: [3 4 3]\n"
          ]
        }
      ]
    },
    {
      "cell_type": "code",
      "source": [
        "'''LET'S PLAY: Define a 4-d Tensor with '''\n",
        "matrix_4D_tensor = tf.constant([[[[317.1, 317.2, 317.3], \n",
        "                                  [317.4, 317.5, 317.6]], \n",
        "                                 [[317.1, 317.2, 317.3], \n",
        "                                  [317.4, 317.5, 317.6]], \n",
        "                                 [[317.1, 317.2, 317.3], \n",
        "                                  [317.4, 317.5, 317.6]]]])\n",
        "\n",
        "assert isinstance(matrix_4D_tensor, tf.Tensor), \"matrix_3D_tensor must be a tf Tensor object\"\n",
        "assert tf.rank(matrix_4D_tensor).numpy() == 4\n",
        "print(\"`matrix_4D_tensor` is a {}-d Tensor with shape: {}\".format(tf.rank(matrix_4D_tensor).numpy(), tf.shape(matrix_4D_tensor)))"
      ],
      "metadata": {
        "id": "q1EU-eNQqWg7",
        "outputId": "cb8e35eb-2744-4bb2-adc2-5ef0a2808213",
        "colab": {
          "base_uri": "https://localhost:8080/"
        }
      },
      "execution_count": 17,
      "outputs": [
        {
          "output_type": "stream",
          "name": "stdout",
          "text": [
            "`matrix_4D_tensor` is a 4-d Tensor with shape: [1 3 2 3]\n"
          ]
        }
      ]
    },
    {
      "cell_type": "code",
      "source": [
        "'''LET'S PLAY: Define a 4-d Tensor with '''\n",
        "matrix_4D_tensor_fun = tf.constant([[[[317.1, 317.2, 317.3], \n",
        "                                      [317.4, 317.5, 317.6]], \n",
        "                                     [[317.1, 317.2, 317.3], \n",
        "                                      [317.4, 317.5, 317.6]], \n",
        "                                     [[317.1, 317.2, 317.3], \n",
        "                                      [317.4, 317.5, 317.6]],\n",
        "                                     [[317.1, 317.2, 317.3], \n",
        "                                      [317.4, 317.5, 317.6]],\n",
        "                                     [[317.1, 317.2, 317.3], \n",
        "                                      [317.4, 317.5, 317.6]]]])\n",
        "\n",
        "assert isinstance(matrix_4D_tensor_fun, tf.Tensor), \"matrix_3D_tensor must be a tf Tensor object\"\n",
        "assert tf.rank(matrix_4D_tensor_fun).numpy() == 4\n",
        "print(\"`matrix_4D_tensor_fun` is a {}-d Tensor with shape: {}\".format(tf.rank(matrix_4D_tensor_fun).numpy(), tf.shape(matrix_4D_tensor_fun)))"
      ],
      "metadata": {
        "colab": {
          "base_uri": "https://localhost:8080/"
        },
        "id": "bCTwHyW70Pri",
        "outputId": "0b2e6f7c-8380-4350-84e5-dc95a543be37"
      },
      "execution_count": 46,
      "outputs": [
        {
          "output_type": "stream",
          "name": "stdout",
          "text": [
            "`matrix_4D_tensor_fun` is a 4-d Tensor with shape: [1 5 2 3]\n"
          ]
        }
      ]
    },
    {
      "cell_type": "code",
      "source": [
        "'''LET'S PLAY: Define a 4-d Tensor with '''\n",
        "matrix_4D_tensor_funfun = tf.constant([[[[317.1, 317.2, 317.3], \n",
        "                                         [317.4, 317.5, 317.6]]],\n",
        "                                       [[[317.1, 317.2, 317.3], \n",
        "                                         [317.4, 317.5, 317.6]]], \n",
        "                                       [[[317.1, 317.2, 317.3], \n",
        "                                         [317.4, 317.5, 317.6]]],\n",
        "                                       [[[317.1, 317.2, 317.3], \n",
        "                                         [317.4, 317.5, 317.6]]],\n",
        "                                       [[[317.1, 317.2, 317.3], \n",
        "                                         [317.4, 317.5, 317.6]]]])\n",
        "\n",
        "assert isinstance(matrix_4D_tensor_funfun, tf.Tensor), \"matrix_3D_tensor must be a tf Tensor object\"\n",
        "assert tf.rank(matrix_4D_tensor_funfun).numpy() == 4\n",
        "print(\"`matrix_4D_tensor_funfun` is a {}-d Tensor with shape: {}\".format(tf.rank(matrix_4D_tensor_funfun).numpy(), tf.shape(matrix_4D_tensor_funfun)))"
      ],
      "metadata": {
        "colab": {
          "base_uri": "https://localhost:8080/"
        },
        "id": "zWvpjaauwM1W",
        "outputId": "5dc220cb-5c55-4c08-aafe-c118674b864a"
      },
      "execution_count": 60,
      "outputs": [
        {
          "output_type": "stream",
          "name": "stdout",
          "text": [
            "`matrix_4D_tensor_funfun` is a 4-d Tensor with shape: [5 1 2 3]\n"
          ]
        }
      ]
    },
    {
      "cell_type": "code",
      "source": [
        "'''LET'S PLAY: Define a 4-d Tensor with '''\n",
        "matrix_4D_tensor_funfunfun = tf.constant([[[[317.1, 317.2, 317.3],                                            \n",
        "                                            [317.4, 317.5, 317.6]]]])\n",
        "                                        \n",
        "\n",
        "assert isinstance(matrix_4D_tensor_funfunfun, tf.Tensor), \"matrix_3D_tensor must be a tf Tensor object\"\n",
        "assert tf.rank(matrix_4D_tensor_funfunfun).numpy() == 4\n",
        "print(\"`matrix_4D_tensor_funfunfun` is a {}-d Tensor with shape: {}\".format(tf.rank(matrix_4D_tensor_funfunfun).numpy(), tf.shape(matrix_4D_tensor_funfunfun)))"
      ],
      "metadata": {
        "colab": {
          "base_uri": "https://localhost:8080/"
        },
        "id": "WctjIwUe1rM1",
        "outputId": "ea9d578f-90ba-4ff6-8a73-d4d0cd31f5c9"
      },
      "execution_count": 84,
      "outputs": [
        {
          "output_type": "stream",
          "name": "stdout",
          "text": [
            "`matrix_4D_tensor_funfunfun` is a 4-d Tensor with shape: [1 1 2 3]\n"
          ]
        }
      ]
    },
    {
      "cell_type": "code",
      "source": [
        "'''LET'S PLAY: Define a 4-d Tensor with '''\n",
        "matrix_4D_tensor_funfunfunfun = tf.constant([[[[317.1, 317.2, 317.3],                                            \n",
        "                                               [317.4, 317.5, 317.6]],\n",
        "                                              [[317.1, 317.2, 317.3],                                            \n",
        "                                               [317.4, 317.5, 317.6]],\n",
        "                                              [[317.1, 317.2, 317.3],                                            \n",
        "                                               [317.4, 317.5, 317.6]],\n",
        "                                              [[317.1, 317.2, 317.3],                                            \n",
        "                                               [317.4, 317.5, 317.6]]]])\n",
        "                                            \n",
        "                                        \n",
        "\n",
        "assert isinstance(matrix_4D_tensor_funfunfunfun, tf.Tensor), \"matrix_3D_tensor must be a tf Tensor object\"\n",
        "assert tf.rank(matrix_4D_tensor_funfunfunfun).numpy() == 4\n",
        "print(\"`matrix_4D_tensor_funfunfunfun` is a {}-d Tensor with shape: {}\".format(tf.rank(matrix_4D_tensor_funfunfunfun).numpy(), tf.shape(matrix_4D_tensor_funfunfunfun)))"
      ],
      "metadata": {
        "colab": {
          "base_uri": "https://localhost:8080/"
        },
        "id": "24abU0uK7war",
        "outputId": "045da03e-a49a-46ee-b919-529719f8bc6b"
      },
      "execution_count": 99,
      "outputs": [
        {
          "output_type": "stream",
          "name": "stdout",
          "text": [
            "`matrix_4D_tensor_funfunfunfun` is a 4-d Tensor with shape: [1 4 2 3]\n"
          ]
        }
      ]
    },
    {
      "cell_type": "code",
      "source": [
        "'''LET'S PLAY: Define a 5-d Tensor with '''\n",
        "matrix_5D_tensor_fun = tf.constant([[[[[317.1, 317.2, 317.3], \n",
        "                                       [317.4, 317.5, 317.6]]],\n",
        "                                     [[[317.1, 317.2, 317.3], \n",
        "                                       [317.4, 317.5, 317.6]]], \n",
        "                                     [[[317.1, 317.2, 317.3], \n",
        "                                       [317.4, 317.5, 317.6]]],\n",
        "                                     [[[317.1, 317.2, 317.3], \n",
        "                                       [317.4, 317.5, 317.6]]],\n",
        "                                     [[[317.1, 317.2, 317.3], \n",
        "                                       [317.4, 317.5, 317.6]]]]])\n",
        "\n",
        "assert isinstance(matrix_5D_tensor_fun, tf.Tensor), \"matrix_3D_tensor must be a tf Tensor object\"\n",
        "assert tf.rank(matrix_5D_tensor_fun).numpy() == 5\n",
        "print(\"`matrix_5D_tensor_fun` is a {}-d Tensor with shape: {}\".format(tf.rank(matrix_5D_tensor_fun).numpy(), tf.shape(matrix_5D_tensor_fun)))"
      ],
      "metadata": {
        "colab": {
          "base_uri": "https://localhost:8080/"
        },
        "id": "XMOf02ed-HSo",
        "outputId": "76356d0c-708b-4f81-8998-b1642401c3be"
      },
      "execution_count": 100,
      "outputs": [
        {
          "output_type": "stream",
          "name": "stdout",
          "text": [
            "`matrix_5D_tensor_fun` is a 5-d Tensor with shape: [1 5 1 2 3]\n"
          ]
        }
      ]
    },
    {
      "cell_type": "markdown",
      "metadata": {
        "id": "afWlQRkgTph5"
      },
      "source": [
        "# **MORE ABOUT \"DIMENSIONS\"** \n",
        "See https://www.tensorflow.org/guide/tensor\n",
        "\n",
        "---\n",
        "## **Constant 1-D Tensor from a python list.**\n",
        "\n",
        "**(1) If the argument dtype is not specified, then the type is inferred from the type of value.**\n",
        "#### tf.constant([1, 2, 3, 4, 5, 6])\n",
        "\n",
        "> tf.Tensor: shape=(6), dtype=int32, numpy=array([1,2,3,4,5,6], dtype=int32)\n",
        "\n",
        "**(2) If shape is set, the value is reshaped to match. Scalars are expanded to fill the shape:**\n",
        "\n",
        "tf.constant([1, 2, 3, 4, 5, 6], shape=[2, 3])\n",
        "\n",
        "> f.Tensor: shape=(2,3), dtype=int32, \n",
        ">#### numpy= \n",
        "            array([1,2,3],\n",
        "                  [4,5,6], dtype=int32)\n",
        "\n",
        "\n",
        "#### Example\n",
        "`tf.zeros([3, 4], tf.int32)`\n",
        "\n",
        "`tf.Tensor: shape=(3, 4), dtype=int32, numpy=`\n",
        "\n",
        "`array([[0, 0, 0, 0], [0, 0, 0, 0], [0, 0, 0, 0]], dtype=int32)`"
      ]
    },
    {
      "cell_type": "code",
      "metadata": {
        "id": "Zv1fTn_Ya_cz",
        "colab": {
          "base_uri": "https://localhost:8080/"
        },
        "outputId": "4e106c5c-c180-4c50-b6cd-0a1605e870a1"
      },
      "source": [
        "'''TODO: Define a 4-d Tensor.'''\n",
        "# Use tf.zeros to initialize a 4-d Tensor of zeros with size 10 x 256 x 256 x 3. \n",
        "#   You can think of this as 10 images where each image is RGB 256 x 256.\n",
        "# images = # TODO\n",
        "images = tf.zeros([10, 256, 256, 3])\n",
        "\n",
        "assert isinstance(images, tf.Tensor), \"matrix must be a tf Tensor object\"\n",
        "assert tf.rank(images).numpy() == 4, \"matrix must be of rank 4\"\n",
        "assert tf.shape(images).numpy().tolist() == [10, 256, 256, 3], \"matrix is incorrect shape\"\n",
        "print(images.shape.rank)\n"
      ],
      "execution_count": 102,
      "outputs": [
        {
          "output_type": "stream",
          "name": "stdout",
          "text": [
            "4\n"
          ]
        }
      ]
    },
    {
      "cell_type": "code",
      "source": [
        "#Let's Play\n",
        "images_fun=tf.zeros([4, 2, 3, 5]) # 4-groups of [[ [....] ]] and within that 2-groups of [ [...] ]\n",
        "images_fun"
      ],
      "metadata": {
        "colab": {
          "base_uri": "https://localhost:8080/"
        },
        "id": "ZH-H2jZTCHYk",
        "outputId": "fd52eda6-00b3-4bda-9052-07febe6fa840"
      },
      "execution_count": 110,
      "outputs": [
        {
          "output_type": "execute_result",
          "data": {
            "text/plain": [
              "<tf.Tensor: shape=(4, 2, 3, 5), dtype=float32, numpy=\n",
              "array([[[[0., 0., 0., 0., 0.],\n",
              "         [0., 0., 0., 0., 0.],\n",
              "         [0., 0., 0., 0., 0.]],\n",
              "\n",
              "        [[0., 0., 0., 0., 0.],\n",
              "         [0., 0., 0., 0., 0.],\n",
              "         [0., 0., 0., 0., 0.]]],\n",
              "\n",
              "\n",
              "       [[[0., 0., 0., 0., 0.],\n",
              "         [0., 0., 0., 0., 0.],\n",
              "         [0., 0., 0., 0., 0.]],\n",
              "\n",
              "        [[0., 0., 0., 0., 0.],\n",
              "         [0., 0., 0., 0., 0.],\n",
              "         [0., 0., 0., 0., 0.]]],\n",
              "\n",
              "\n",
              "       [[[0., 0., 0., 0., 0.],\n",
              "         [0., 0., 0., 0., 0.],\n",
              "         [0., 0., 0., 0., 0.]],\n",
              "\n",
              "        [[0., 0., 0., 0., 0.],\n",
              "         [0., 0., 0., 0., 0.],\n",
              "         [0., 0., 0., 0., 0.]]],\n",
              "\n",
              "\n",
              "       [[[0., 0., 0., 0., 0.],\n",
              "         [0., 0., 0., 0., 0.],\n",
              "         [0., 0., 0., 0., 0.]],\n",
              "\n",
              "        [[0., 0., 0., 0., 0.],\n",
              "         [0., 0., 0., 0., 0.],\n",
              "         [0., 0., 0., 0., 0.]]]], dtype=float32)>"
            ]
          },
          "metadata": {},
          "execution_count": 110
        }
      ]
    },
    {
      "cell_type": "code",
      "source": [
        "#Let's play\n",
        "assert isinstance(images_fun, tf.Tensor), \"matrix_3D_tensor must be a tf Tensor object\"\n",
        "assert tf.rank(images_fun).numpy() == 4\n",
        "print(\"`images_fun` is a {}-d Tensor with shape: {}\".format(tf.rank(images_fun).numpy(), tf.shape(images_fun)))"
      ],
      "metadata": {
        "colab": {
          "base_uri": "https://localhost:8080/"
        },
        "id": "qha21vl8C2VR",
        "outputId": "7ec5f92b-a39d-409d-9121-60107cd58bc1"
      },
      "execution_count": 112,
      "outputs": [
        {
          "output_type": "stream",
          "name": "stdout",
          "text": [
            "`images_fun` is a 4-d Tensor with shape: [4 2 3 5]\n"
          ]
        }
      ]
    },
    {
      "cell_type": "markdown",
      "metadata": {
        "id": "wkaCDOGapMyl"
      },
      "source": [
        "As you have seen, the ```shape``` of a Tensor provides the number of elements in each Tensor dimension. The ```shape``` is quite useful, and we'll use it often. You can also use slicing to access subtensors within a higher-rank Tensor:"
      ]
    },
    {
      "cell_type": "code",
      "metadata": {
        "id": "FhaufyObuLEG",
        "colab": {
          "base_uri": "https://localhost:8080/"
        },
        "outputId": "01949c54-15bf-4c3e-8d54-af89d8f6656c"
      },
      "source": [
        "'''FROM LAB ANSWERS: Define a 2-d Tensor'''\n",
        "matrixOG = tf.constant([[1.0, 2.0, 3.0, 4.0], \n",
        "                        [5.0, 6.0, 7.0, 8.0]]) \n",
        "\n",
        "row_vector = matrixOG[1]\n",
        "column_vector = matrixOG[:,2]\n",
        "scalar = matrixOG[1, 2]\n",
        "\n",
        "print(\"`row_vector`: {}\".format(row_vector.numpy()))\n",
        "print(\"`column_vector`: {}\".format(column_vector.numpy()))\n",
        "print(\"`scalar`: {}\".format(scalar.numpy()))"
      ],
      "execution_count": 114,
      "outputs": [
        {
          "output_type": "stream",
          "name": "stdout",
          "text": [
            "`row_vector`: [5. 6. 7. 8.]\n",
            "`column_vector`: [3. 7.]\n",
            "`scalar`: 7.0\n"
          ]
        }
      ]
    },
    {
      "cell_type": "markdown",
      "metadata": {
        "id": "R8_ubansP7UH"
      },
      "source": [
        "#**MORE ABOUT \"tf.zeros\"**\n",
        "---\n",
        "Synax: tf.zeros(shape, dtype=tf.dtypes.float32, name=None). \n",
        "\n",
        "This operation returns a tensor of type dtype with shape \"shape\" and all elements set to zero.\n",
        "\n",
        "##### tf.zeros([3, 4], tf.int32)\n",
        "> ##### tf.Tensor: shape=(3,4), dtype=int32, \n",
        "> ##### numpy= \n",
        "      array([[0,0,0,0], \n",
        "             [0,0,0,0], \n",
        "             [0,0,0,0]], \n",
        "            dtype=int32)>\n"
      ]
    },
    {
      "cell_type": "markdown",
      "metadata": {
        "id": "VPe58JsAiWht"
      },
      "source": [
        "#**EXTRA PRACTICE CREATING \"tf.zeros\"**\n",
        "---\n",
        "\n"
      ]
    },
    {
      "cell_type": "code",
      "metadata": {
        "colab": {
          "base_uri": "https://localhost:8080/"
        },
        "id": "w9xLlElBhEFO",
        "outputId": "84aaa5e2-0353-43f8-8efd-e7e2608681bf"
      },
      "source": [
        "images02 =tf.zeros([2,3,5])\n",
        "print(\"rank is\", images02.shape.rank)\n",
        "print(\"shape is\", images02.shape)\n",
        "print(images02)"
      ],
      "execution_count": null,
      "outputs": [
        {
          "output_type": "stream",
          "text": [
            "rank is 3\n",
            "shape is (2, 3, 5)\n",
            "tf.Tensor(\n",
            "[[[0. 0. 0. 0. 0.]\n",
            "  [0. 0. 0. 0. 0.]\n",
            "  [0. 0. 0. 0. 0.]]\n",
            "\n",
            " [[0. 0. 0. 0. 0.]\n",
            "  [0. 0. 0. 0. 0.]\n",
            "  [0. 0. 0. 0. 0.]]], shape=(2, 3, 5), dtype=float32)\n"
          ],
          "name": "stdout"
        }
      ]
    },
    {
      "cell_type": "code",
      "metadata": {
        "colab": {
          "base_uri": "https://localhost:8080/"
        },
        "id": "BHzVA-QjiD9W",
        "outputId": "2fad8628-c3ef-4c34-f0d7-607c503fe309"
      },
      "source": [
        "#this will be a (2,3) matrix (the last two numbers), with 2 groups (first number; notice brackets) that are each made up of 5 matrices (second number)\n",
        "images03 = tf.zeros([2,5,2,3])\n",
        "print(\"rank is\", images03.shape.rank)\n",
        "print(\"shape is\", images03.shape)\n",
        "print(images03)"
      ],
      "execution_count": null,
      "outputs": [
        {
          "output_type": "stream",
          "text": [
            "rank is 4\n",
            "shape is (2, 5, 2, 3)\n",
            "tf.Tensor(\n",
            "[[[[0. 0. 0.]\n",
            "   [0. 0. 0.]]\n",
            "\n",
            "  [[0. 0. 0.]\n",
            "   [0. 0. 0.]]\n",
            "\n",
            "  [[0. 0. 0.]\n",
            "   [0. 0. 0.]]\n",
            "\n",
            "  [[0. 0. 0.]\n",
            "   [0. 0. 0.]]\n",
            "\n",
            "  [[0. 0. 0.]\n",
            "   [0. 0. 0.]]]\n",
            "\n",
            "\n",
            " [[[0. 0. 0.]\n",
            "   [0. 0. 0.]]\n",
            "\n",
            "  [[0. 0. 0.]\n",
            "   [0. 0. 0.]]\n",
            "\n",
            "  [[0. 0. 0.]\n",
            "   [0. 0. 0.]]\n",
            "\n",
            "  [[0. 0. 0.]\n",
            "   [0. 0. 0.]]\n",
            "\n",
            "  [[0. 0. 0.]\n",
            "   [0. 0. 0.]]]], shape=(2, 5, 2, 3), dtype=float32)\n"
          ],
          "name": "stdout"
        }
      ]
    },
    {
      "cell_type": "code",
      "metadata": {
        "colab": {
          "base_uri": "https://localhost:8080/"
        },
        "id": "zF-hUiGLjHrf",
        "outputId": "003a70ad-46ca-4b5c-e0c0-f15a67199a43"
      },
      "source": [
        "# this will be a (2,4) matrix (the last 2 numbers), \n",
        "# with 2 main groups (first number) where each main group contains 2 groups of matrices each (second number), \n",
        "# and where each of this 2 groups (second number) has 3 matrices inside each\n",
        "images04 = tf.zeros([2,2,3,2,4])\n",
        "print(\"rank is\", images04.shape.rank)\n",
        "print(\"shape is\", images04.shape)\n",
        "print(images04)"
      ],
      "execution_count": null,
      "outputs": [
        {
          "output_type": "stream",
          "text": [
            "rank is 5\n",
            "shape is (2, 2, 3, 2, 4)\n",
            "tf.Tensor(\n",
            "[[[[[0. 0. 0. 0.]\n",
            "    [0. 0. 0. 0.]]\n",
            "\n",
            "   [[0. 0. 0. 0.]\n",
            "    [0. 0. 0. 0.]]\n",
            "\n",
            "   [[0. 0. 0. 0.]\n",
            "    [0. 0. 0. 0.]]]\n",
            "\n",
            "\n",
            "  [[[0. 0. 0. 0.]\n",
            "    [0. 0. 0. 0.]]\n",
            "\n",
            "   [[0. 0. 0. 0.]\n",
            "    [0. 0. 0. 0.]]\n",
            "\n",
            "   [[0. 0. 0. 0.]\n",
            "    [0. 0. 0. 0.]]]]\n",
            "\n",
            "\n",
            "\n",
            " [[[[0. 0. 0. 0.]\n",
            "    [0. 0. 0. 0.]]\n",
            "\n",
            "   [[0. 0. 0. 0.]\n",
            "    [0. 0. 0. 0.]]\n",
            "\n",
            "   [[0. 0. 0. 0.]\n",
            "    [0. 0. 0. 0.]]]\n",
            "\n",
            "\n",
            "  [[[0. 0. 0. 0.]\n",
            "    [0. 0. 0. 0.]]\n",
            "\n",
            "   [[0. 0. 0. 0.]\n",
            "    [0. 0. 0. 0.]]\n",
            "\n",
            "   [[0. 0. 0. 0.]\n",
            "    [0. 0. 0. 0.]]]]], shape=(2, 2, 3, 2, 4), dtype=float32)\n"
          ],
          "name": "stdout"
        }
      ]
    },
    {
      "cell_type": "markdown",
      "metadata": {
        "id": "iD3VO-LZYZ2z"
      },
      "source": [
        "## 1.2 Computations on Tensors\n",
        "\n",
        "A convenient way to think about and visualize computations in TensorFlow is in terms of graphs. We can define this graph in terms of Tensors, which hold data, and the mathematical operations that act on these Tensors in some order. Let's look at a simple example, and define this computation using TensorFlow:\n",
        "\n",
        "![alt text](https://raw.githubusercontent.com/aamini/introtodeeplearning/master/lab1/img/add-graph.png)"
      ]
    },
    {
      "cell_type": "code",
      "metadata": {
        "id": "X_YJrZsxYZ2z",
        "colab": {
          "base_uri": "https://localhost:8080/"
        },
        "outputId": "18d494f8-a37f-41c5-855b-deba90361557"
      },
      "source": [
        "# Create the nodes in the graph, and initialize values\n",
        "a = tf.constant(15)\n",
        "b = tf.constant(61)\n",
        "\n",
        "# Add them!\n",
        "c1 = tf.add(a,b)\n",
        "c2 = a + b # TensorFlow overrides the \"+\" operation so that it is able to act on Tensors\n",
        "print(c1)\n",
        "print(c2)"
      ],
      "execution_count": 116,
      "outputs": [
        {
          "output_type": "stream",
          "name": "stdout",
          "text": [
            "tf.Tensor(76, shape=(), dtype=int32)\n",
            "tf.Tensor(76, shape=(), dtype=int32)\n"
          ]
        }
      ]
    },
    {
      "cell_type": "markdown",
      "metadata": {
        "id": "Mbfv_QOiYZ23"
      },
      "source": [
        "Notice how we've created a computation graph consisting of TensorFlow operations, and how  the output is a Tensor with value 76 -- we've just created a computation graph consisting of operations, and it's executed them and given us back the result.\n",
        "\n",
        "Now let's consider a slightly more complicated example:\n",
        "\n",
        "![alt text](https://raw.githubusercontent.com/aamini/introtodeeplearning/master/lab1/img/computation-graph.png)\n",
        "\n",
        "Here, we take two inputs, `a, b`, and compute an output `e`. Each node in the graph represents an operation that takes some input, does some computation, and passes its output to another node.\n",
        "\n",
        "Let's define a simple function in TensorFlow to construct this computation function:"
      ]
    },
    {
      "cell_type": "code",
      "metadata": {
        "scrolled": true,
        "id": "PJnfzpWyYZ23"
      },
      "source": [
        "### Defining Tensor computations ###\n",
        "\n",
        "# Construct a simple computation function\n",
        "def func(a,b):\n",
        "  '''TODO: Define the operation for c, d, e (use tf.add, tf.subtract, tf.multiply).'''\n",
        "  #c = # TODO\n",
        "  #d = # TODO\n",
        "  #e = # TODO\n",
        "  c = tf.add(a,b)\n",
        "  d = tf.subtract(b, 1)\n",
        "  e = tf.multiply(c, d) \n",
        "  return e"
      ],
      "execution_count": 117,
      "outputs": []
    },
    {
      "cell_type": "markdown",
      "metadata": {
        "id": "AwrRfDMS2-oy"
      },
      "source": [
        "Now, we can call this function to execute the computation graph given some inputs `a,b`:"
      ]
    },
    {
      "cell_type": "code",
      "metadata": {
        "id": "pnwsf8w2uF7p",
        "colab": {
          "base_uri": "https://localhost:8080/"
        },
        "outputId": "72703a12-80fc-4bc2-b2d8-38d6f4929788"
      },
      "source": [
        "# Consider example values for a,b\n",
        "a, b = 25, 2\n",
        "# Execute the computation 25+2=27=c;2-1=1=d; 27*1=27=e \n",
        "e_out = func(a,b)\n",
        "print(e_out)"
      ],
      "execution_count": 132,
      "outputs": [
        {
          "output_type": "stream",
          "name": "stdout",
          "text": [
            "tf.Tensor(27, shape=(), dtype=int32)\n"
          ]
        }
      ]
    },
    {
      "cell_type": "markdown",
      "metadata": {
        "id": "6HqgUIUhYZ29"
      },
      "source": [
        "Notice how our output is a Tensor with value defined by the output of the computation, and that the output has no shape as it is a single scalar value."
      ]
    },
    {
      "cell_type": "markdown",
      "metadata": {
        "id": "1h4o9Bb0YZ29"
      },
      "source": [
        "## 1.3 Neural networks in TensorFlow\n",
        "We can also define neural networks in TensorFlow. TensorFlow uses a high-level API called [Keras](https://www.tensorflow.org/guide/keras) that provides a powerful, intuitive framework for building and training deep learning models.\n",
        "\n",
        "Let's first consider the example of a simple perceptron defined by just one dense layer: $ y = \\sigma(Wx + b)$, where $W$ represents a matrix of weights, $b$ is a bias, $x$ is the input, $\\sigma$ is the sigmoid activation function, and $y$ is the output. We can also visualize this operation using a graph: \n",
        "\n",
        "![alt text](https://raw.githubusercontent.com/aamini/introtodeeplearning/master/lab1/img/computation-graph-2.png)\n",
        "\n",
        "Tensors can flow through abstract types called [```Layers```](https://www.tensorflow.org/api_docs/python/tf/keras/layers/Layer) -- the building blocks of neural networks. ```Layers``` implement common neural networks operations, and are used to update weights, compute losses, and define inter-layer connectivity. We will first define a ```Layer``` to implement the simple perceptron defined above.\n",
        "\n",
        "**NOTES**\n",
        "\n",
        "A Layer is \n",
        "* a callable object \n",
        "* that takes as input one or more tensors and that \n",
        "* outputs one or more tensors. \n",
        "* It involves computation, defined in \n",
        "  * the call() method, and a \n",
        "  * state (weight variables). "
      ]
    },
    {
      "cell_type": "markdown",
      "metadata": {
        "id": "mmfnDWQvp-jF"
      },
      "source": [
        "# **MORE ON \"TENSORFLOW AND KERAS\"**\n",
        "---\n",
        "See https://keras.io/about/\n",
        "\n",
        "**TensorFlow**\n",
        "##### TensorFlow 2 is an end-to-end, open-source machine learning platform. Think of it as an infrastructure layer for differentiable programming. \n",
        "* Provides a collection of workflows to develop and train models using Python or JavaScript, and to easily deploy in the cloud, on-prem, in the browser, or on-device no matter what language you use.\n",
        "* Has comprehensive, flexible ecosystem of tools, libraries\n",
        "\n",
        "It combines four key abilities:\n",
        "\n",
        "1. Efficiently executing low-level tensor operations on CPU, GPU, or TPU.\n",
        "2. Computing the gradient of arbitrary differentiable expressions.\n",
        "3. Scaling computation to many devices, such as clusters of hundreds of GPUs.\n",
        "4. Exporting programs (\"graphs\") to external runtimes such as servers, browsers, mobile and embedded devices.\n",
        "\n",
        "#####**Keras**\n",
        "* Keras is a deep learning API written in Python, running on top of the machine learning platform TensorFlow. \n",
        "\n",
        "* It is a high-level API of TensorFlow 2\n",
        "* Powerful and Intuitive framework for building and training deep learning models\n",
        "* It is an approachable, highly-productive interface for solving machine learning problems, with a focus on modern deep learning. \n",
        "* Provides essential abstractions and building blocks for developing and shipping machine learning solutions with high iteration velocity.\n",
        "\n",
        "* The core data structures of Keras are layers and models. \n",
        "> * The simplest type of model is the Sequential model:\n",
        "    * a linear stack of layers. \n",
        "  * For more complex architectures, use the Keras functional API: \n",
        "    * allows to build arbitrary graphs of layers, or write models entirely from scratch via subclasssing.\n"
      ]
    },
    {
      "cell_type": "markdown",
      "metadata": {
        "id": "sAqxd9il2cZA"
      },
      "source": [
        "#**A SIMPLE NETWORK LAYER PERCEPTRON**\n",
        "\n",
        "---\n",
        "\n"
      ]
    },
    {
      "cell_type": "code",
      "metadata": {
        "id": "HutbJk-1kHPh",
        "colab": {
          "base_uri": "https://localhost:8080/"
        },
        "outputId": "55c8d73b-4364-4702-ab30-bf6b96c12ea5"
      },
      "source": [
        "### Defining a network Layer ###\n",
        "\n",
        "# n_output_nodes: number of output nodes\n",
        "# input_shape: shape of the input\n",
        "# x: input to the layer\n",
        "\n",
        "# class OurDenseLayer def_init_ \n",
        "# This is the class from which all layers inherit. \n",
        "# A layer is a callable object that takes as input one or more tensors and\n",
        "# that outputs one or more tensors. \n",
        "# It involves:\n",
        "  # (1) *computation*, defined in the call() method, and a \n",
        "  # (2) *state* (weight variables), defined either in the constructor __init__() or \n",
        "  # in the build() method. \n",
        "# Users will just instantiate a layer and then treat it as a callable.\n",
        "class OurDenseLayer(tf.keras.layers.Layer):\n",
        "  def __init__(self, n_output_nodes):\n",
        "    super(OurDenseLayer, self).__init__()\n",
        "    self.n_output_nodes = n_output_nodes\n",
        "\n",
        "# Creates the variables of the layer \n",
        "# This is typically used to create the weights of Layer subclasses.\n",
        "# Creates the *state* of the layer (weights)\n",
        "  def build(self, input_shape):\n",
        "    d = int(input_shape[-1])\n",
        "    # Define and initialize parameters: a weight matrix W and bias b\n",
        "    # Note that parameter initialization is random!\n",
        "    self.W = self.add_weight(\"weight\", shape=[d, self.n_output_nodes]) # note the dimensionality\n",
        "    self.b = self.add_weight(\"bias\", shape=[1, self.n_output_nodes]) # note the dimensionality\n",
        "\n",
        "# Defines the *computation* from inputs to outputs\n",
        "  def call(self, x):\n",
        "    '''TODO: define the operation for z (hint: use tf.matmul)'''\n",
        "    z = tf.matmul(x, self.W) + self.b # matmul: Multiplies matrix a by matrix b, producing a * b.\n",
        "\n",
        "    '''TODO: define the operation for out (hint: use tf.sigmoid)'''\n",
        "    y = tf.sigmoid(z)\n",
        "    return y\n",
        "\n",
        "# Since layer parameters are initialized randomly, we will set a random seed for reproducibility\n",
        "tf.random.set_seed(1)\n",
        "layer = OurDenseLayer(3) # instantiates the layer with 3 output nodes\n",
        "layer.build((1,2)) # input shape inside parenthesis\n",
        "x_input = tf.constant([[1,2.]], shape=(1,2))\n",
        "y = layer.call(x_input)\n",
        "\n",
        "# test the output!\n",
        "print(\"y is \", y)\n",
        "print(\"shape is \", y.shape)\n",
        "print(\"rank is \", y.shape.rank)\n",
        "\n",
        "print(y.numpy())\n",
        "mdl.lab1.test_custom_dense_layer_output(y)"
      ],
      "execution_count": 141,
      "outputs": [
        {
          "output_type": "stream",
          "name": "stdout",
          "text": [
            "y is  tf.Tensor([[0.2697859  0.45750412 0.66536945]], shape=(1, 3), dtype=float32)\n",
            "shape is  (1, 3)\n",
            "rank is  2\n",
            "[[0.2697859  0.45750412 0.66536945]]\n",
            "[PASS] test_custom_dense_layer_output\n"
          ]
        },
        {
          "output_type": "execute_result",
          "data": {
            "text/plain": [
              "True"
            ]
          },
          "metadata": {},
          "execution_count": 141
        }
      ]
    },
    {
      "cell_type": "markdown",
      "metadata": {
        "id": "gqAbTnC22Jbb"
      },
      "source": [
        "\n",
        "# **SEQUENTIAL MODEL AND THE DENSE LAYER**\n",
        "---\n",
        "\n"
      ]
    },
    {
      "cell_type": "markdown",
      "metadata": {
        "id": "Jt1FgM7qYZ3D"
      },
      "source": [
        "Conveniently, TensorFlow has defined a number of ```Layers``` that are commonly used in neural networks, for example a [```Dense```](https://www.tensorflow.org/api_docs/python/tf/keras/layers/Dense?version=stable). Now, instead of using a single ```Layer``` to define our simple neural network, we'll use the  [`Sequential`](https://www.tensorflow.org/versions/r2.0/api_docs/python/tf/keras/Sequential) model from Keras and a single [`Dense` ](https://www.tensorflow.org/versions/r2.0/api_docs/python/tf/keras/layers/Dense) layer to define our network. With the `Sequential` API, you can readily create neural networks by stacking together layers like building blocks. \n",
        "\n",
        "---\n",
        "**NOTES**\n",
        "---\n",
        "---\n",
        "**Sequential:** \n",
        "\n",
        "Linear stack of layers. Inherits From: Model\n",
        "\n",
        "`tf.keras.Sequential(\n",
        "    layers=None, name=None\n",
        ")`\n",
        "\n",
        "\n",
        "---\n",
        "\n",
        "**Dense**\n",
        "* implements the operation: output = activation(dot(input, kernel) + bias) where \n",
        "  * activation is the element-wise activation function passed as the activation argument, \n",
        "  * kernel is a weights matrix created by the layer, and \n",
        "  * bias is a bias vector created by the layer (only applicable if use_bias is True). \n",
        "\n",
        "`tf.keras.layers.Dense(\n",
        "    units,\n",
        "    activation=None,\n",
        "    use_bias=True,\n",
        "    kernel_initializer='glorot_uniform',\n",
        "    bias_initializer='zeros',\n",
        "    kernel_regularizer=None,\n",
        "    bias_regularizer=None,\n",
        "    activity_regularizer=None,\n",
        "    kernel_constraint=None,\n",
        "    bias_constraint=None,\n",
        "    **kwargs\n",
        ")\n",
        "\n",
        "**Input shape**\n",
        "* N-D tensor with shape: (batch_size, ..., input_dim). \n",
        "* The most common situation would be a 2D input with shape (batch_size, input_dim).\n",
        "\n",
        "**Output shape**\n",
        "* N-D tensor with shape: (batch_size, ..., units). \n",
        "* For instance, for a 2D input with shape (batch_size, input_dim), the output would have shape (batch_size, units)."
      ]
    },
    {
      "cell_type": "code",
      "metadata": {
        "id": "7WXTpmoL6TDz"
      },
      "source": [
        "### Defining a neural network using the Sequential API ###\n",
        "\n",
        "# Import relevant packages\n",
        "from tensorflow.keras import Sequential\n",
        "from tensorflow.keras.layers import Dense\n",
        "\n",
        "# Define the number of outputs\n",
        "n_output_nodes = 3\n",
        "\n",
        "# First define the model \n",
        "model = Sequential()\n",
        "\n",
        "'''TODO: Define a dense (fully connected) layer to compute z'''\n",
        "# Remember: dense layers are defined by the parameters W and b!\n",
        "# You can read more about the initialization of W and b in the TF documentation :) \n",
        "# https://www.tensorflow.org/api_docs/python/tf/keras/layers/Dense?version=stable\n",
        "dense_layer = tf.keras.layers.Dense(n_output_nodes, activation = 'sigmoid')\n",
        "# or dense_layer = Dense(n_output_nodes, activation= 'sigmoid')\n",
        "\n",
        "# Add the dense layer to the model\n",
        "model.add(dense_layer)\n"
      ],
      "execution_count": 153,
      "outputs": []
    },
    {
      "cell_type": "markdown",
      "metadata": {
        "id": "HDGcwYfUyR-U"
      },
      "source": [
        "That's it! We've defined our model using the Sequential API. Now, we can test it out using an example input:"
      ]
    },
    {
      "cell_type": "markdown",
      "metadata": {
        "id": "5XRkIVHdHEqu"
      },
      "source": [
        "#**MORE ON \"SEQUENTIAL API AND DENSE LAYER\"**\n",
        "---\n",
        "##### See https://www.tensorflow.org/api_docs/python/tf/keras/layers/Dense?version=stable#argargs_1\n",
        "**Syntax**\n",
        "```\n",
        "tf.keras.layers.Dense(\n",
        "    units, activation=None, use_bias=True,\n",
        "    kernel_initializer='glorot_uniform',\n",
        "    bias_initializer='zeros', kernel_regularizer=None,\n",
        "    bias_regularizer=None, activity_regularizer=None, kernel_constraint=None,\n",
        "    bias_constraint=None, **kwargs\n",
        ")\n",
        "```\n",
        "```\n",
        "Args\n",
        "\n",
        "units\tPositive integer, dimensionality of the output space.\n",
        "\n",
        "activation\tActivation function to use. If you don't specify anything, no activation is applied (ie. \"linear\" activation: a(x) = x).\n",
        "\n",
        "use_bias\tBoolean, whether the layer uses a bias vector.\n",
        "\n",
        "kernel_initializer\tInitializer for the kernel weights matrix.\n",
        "\n",
        "bias_initializer\tInitializer for the bias vector.\n",
        "\n",
        "kernel_regularizer\tRegularizer function applied to the kernel weights matrix.\n",
        "\n",
        "bias_regularizer\tRegularizer function applied to the bias vector.\n",
        "\n",
        "activity_regularizer\tRegularizer function applied to the output of the layer (its \"activation\").\n",
        "\n",
        "kernel_constraint\tConstraint function applied to the kernel weights matrix.\n",
        "\n",
        "bias_constraint\tConstraint function applied to the bias vector.\n",
        "```\n",
        "\n",
        "Dense implements the operation: \n",
        "> output = activation(dot(input, kernel) + bias) where\n",
        "* **activation** is the element-wise activation function passed as the activation argument \n",
        "* **kernel** is a weights matrix created by the layer, and \n",
        "* **bias** is a bias vector created by the layer (only applicable if use_bias is True). \n",
        "#####These are all attributes of Dense.\n",
        "\n",
        "##**Example**\n",
        "\n",
        "```\n",
        "# Create a `Sequential` model and add a Dense layer as the first layer.\n",
        "model = tf.keras.models.Sequential()\n",
        "model.add(tf.keras.Input(shape=(16,)))\n",
        "model.add(tf.keras.layers.Dense(32, activation='relu'))\n",
        "# Now the model will take as input arrays of shape (None, 16)\n",
        "# and output arrays of shape (None, 32).\n",
        "# Note that after the first layer, you don't need to specify\n",
        "# the size of the input anymore:\n",
        "model.add(tf.keras.layers.Dense(32))\n",
        "model.output_shape\n",
        "```\n",
        "---\n",
        "##**add(layer) method**\n",
        "---\n",
        "**def add(layer)**\n",
        "* Adds a layer instance on top of the layer stack.\n",
        "\n",
        "* Args: layer: layer instance.\n",
        "\n",
        "* Raises:\n",
        "  * TypeError: If layer is not a layer instance.\n",
        "  * ValueError: In case the layer argument does not know its input shape.\n",
        "  * ValueError: In case the layer argument has multiple output tensors, or is already connected somewhere else (forbidden in Sequential models).\n"
      ]
    },
    {
      "cell_type": "code",
      "metadata": {
        "id": "sg23OczByRDb",
        "colab": {
          "base_uri": "https://localhost:8080/"
        },
        "outputId": "61f3cfdd-8f58-4efd-b7d1-24c459605c06"
      },
      "source": [
        "# Test model with example input\n",
        "x_input = tf.constant([[1,2.]], shape=(1,2))\n",
        "\n",
        "'''TODO: feed input into the model and predict the output!'''\n",
        "model_output = model(x_input).numpy()\n",
        "print(model_output)"
      ],
      "execution_count": 143,
      "outputs": [
        {
          "output_type": "stream",
          "name": "stdout",
          "text": [
            "[[0.5607363 0.6566898 0.1249697]]\n"
          ]
        }
      ]
    },
    {
      "cell_type": "code",
      "source": [
        "# LET'S PARTY\n",
        "x_input = tf.constant([[1,2.]], shape=(1,2))\n",
        "\n",
        "'''TODO: feed input into the model and predict the output!'''\n",
        "model_output = model(x_input).numpy()\n",
        "model_output"
      ],
      "metadata": {
        "colab": {
          "base_uri": "https://localhost:8080/"
        },
        "id": "qp1MVqEPVgpM",
        "outputId": "3f87015e-82cf-436f-ebd4-01eb145f9670"
      },
      "execution_count": 154,
      "outputs": [
        {
          "output_type": "execute_result",
          "data": {
            "text/plain": [
              "array([[0.33609697, 0.8295239 , 0.7325508 ]], dtype=float32)"
            ]
          },
          "metadata": {},
          "execution_count": 154
        }
      ]
    },
    {
      "cell_type": "markdown",
      "metadata": {
        "id": "h3gL8wxNSjr_"
      },
      "source": [
        "#**Defining our NN by directly Subclassing the Model instead of defining the model using the Sequential API**\n",
        "\n",
        "\n",
        "---\n",
        "\n"
      ]
    },
    {
      "cell_type": "markdown",
      "metadata": {
        "id": "596NvsOOtr9F"
      },
      "source": [
        "In addition to defining models using the `Sequential` API, we can also define neural networks by directly subclassing the [`Model`](https://www.tensorflow.org/api_docs/python/tf/keras/Model?version=stable) class, which groups layers together to enable model training and inference. The `Model` class captures what we refer to as a \"model\" or as a \"network\". Using Subclassing, we can create a class for our model, and then define the forward pass through the network using the `call` function. \n",
        "\n",
        "Subclassing affords the flexibility to \n",
        "* define custom layers, \n",
        "* define custom training loops, \n",
        "* define custom activation functions, and \n",
        "* define custom models. \n",
        "\n",
        "Let's define the same neural network as above now using Subclassing rather than the `Sequential` model.\n",
        "\n",
        "---\n",
        "**NOTES**\n",
        "---\n",
        "Model \n",
        "* groups layers into an object with training and inference features.\n",
        "\n",
        "`tf.keras.Model(*args, **kwargs)`\n",
        "\n",
        "* There are two ways to instantiate a Model: the functional API and subclassing. We are subclassing here:\n",
        "  * By subclassing the Model class: in that case, you should define your layers in __init__ and you should implement the model's forward pass in call.\n",
        "\n",
        "```\n",
        "import tensorflow as tf \n",
        "class MyModel(tf.keras.Model):\n",
        "\n",
        "  def __init__(self):\n",
        "    super(MyModel, self).__init__()\n",
        "    self.dense1 = tf.keras.layers.Dense(4, activation=tf.nn.relu)\n",
        "    self.dense2 = tf.keras.layers.Dense(5, activation=tf.nn.softmax)\n",
        "\n",
        "  def call(self, inputs):\n",
        "    x = self.dense1(inputs)\n",
        "    return self.dense2(x)\n",
        "\n",
        "model = MyModel()\n",
        "```"
      ]
    },
    {
      "cell_type": "code",
      "metadata": {
        "id": "K4aCflPVyViD"
      },
      "source": [
        "### Defining a model using subclassing ###\n",
        "\n",
        "from tensorflow.keras import Model\n",
        "from tensorflow.keras.layers import Dense\n",
        "\n",
        "class SubclassModel(tf.keras.Model):\n",
        "\n",
        "  # In __init__, we define the Model's layers\n",
        "  def __init__(self, n_output_nodes):\n",
        "    super(SubclassModel, self).__init__()\n",
        "    '''TODO: Our model consists of a single Dense layer. Define this layer.''' \n",
        "    self.dense_layer = Dense(n_output_nodes, activation='sigmoid')\n",
        "\n",
        "  # In the call function, we define the Model's forward pass.\n",
        "  def call(self, inputs):\n",
        "    return self.dense_layer(inputs)"
      ],
      "execution_count": 155,
      "outputs": []
    },
    {
      "cell_type": "markdown",
      "metadata": {
        "id": "U0-lwHDk4irB"
      },
      "source": [
        "Just like the model we built using the `Sequential` API, let's test out our `SubclassModel` using an example input.\n",
        "\n"
      ]
    },
    {
      "cell_type": "code",
      "metadata": {
        "id": "LhB34RA-4gXb",
        "colab": {
          "base_uri": "https://localhost:8080/"
        },
        "outputId": "8fac58b1-a232-4f1e-d8b7-dbb0b1fc120e"
      },
      "source": [
        "n_output_nodes = 3\n",
        "model = SubclassModel(n_output_nodes)\n",
        "\n",
        "x_input = tf.constant([[1,2.]], shape=(1,2))\n",
        "\n",
        "print(model.call(x_input))"
      ],
      "execution_count": 156,
      "outputs": [
        {
          "output_type": "stream",
          "name": "stdout",
          "text": [
            "tf.Tensor([[0.80136347 0.26954946 0.91860557]], shape=(1, 3), dtype=float32)\n"
          ]
        }
      ]
    },
    {
      "cell_type": "code",
      "source": [
        "#LET'S PARTY\n",
        "n_output_nodes = 7\n",
        "model = SubclassModel(n_output_nodes)\n",
        "\n",
        "x_input = tf.constant([[1,2.]], shape=(1,2))\n",
        "model_output_fun=model.call(x_input)\n",
        "model_output_fun"
      ],
      "metadata": {
        "colab": {
          "base_uri": "https://localhost:8080/"
        },
        "id": "pUBvRiKNUn58",
        "outputId": "df77a90b-5b62-4468-d20a-7080a00eadab"
      },
      "execution_count": 157,
      "outputs": [
        {
          "output_type": "execute_result",
          "data": {
            "text/plain": [
              "<tf.Tensor: shape=(1, 7), dtype=float32, numpy=\n",
              "array([[0.7459647 , 0.8800371 , 0.39032072, 0.27072322, 0.13402148,\n",
              "        0.6336061 , 0.4002046 ]], dtype=float32)>"
            ]
          },
          "metadata": {},
          "execution_count": 157
        }
      ]
    },
    {
      "cell_type": "markdown",
      "metadata": {
        "id": "HTIFMJLAzsyE"
      },
      "source": [
        "Importantly, Subclassing affords us a lot of flexibility to define custom models. For example, we can use boolean arguments in the `call` function to specify different network behaviors, for example different behaviors during training and inference. Let's suppose under some instances we want our network to simply output the input, without any perturbation. We define a boolean argument `isidentity` to control this behavior:"
      ]
    },
    {
      "cell_type": "code",
      "metadata": {
        "id": "P7jzGX5D1xT5"
      },
      "source": [
        "### Defining a model using subclassing and specifying custom behavior ###\n",
        "\n",
        "from tensorflow.keras import Model\n",
        "from tensorflow.keras.layers import Dense\n",
        "\n",
        "class IdentityModel(tf.keras.Model):\n",
        "\n",
        "  # As before, in __init__ we define the Model's layers\n",
        "  # Since our desired behavior involves the forward pass, this part is unchanged\n",
        "  def __init__(self, n_output_nodes):\n",
        "    super(IdentityModel, self).__init__()\n",
        "    self.dense_layer = tf.keras.layers.Dense(n_output_nodes, activation='sigmoid')\n",
        "\n",
        "  '''TODO: Implement the behavior where the network outputs the input, unchanged, \n",
        "      under control of the isidentity argument.'''\n",
        "  def call(self, inputs, isidentity=False):\n",
        "    x = self.dense_layer(inputs)\n",
        "    '''TODO: Implement identity behavior'''\n",
        "    if isidentity: \n",
        "      return inputs \n",
        "    return x\n",
        "    "
      ],
      "execution_count": 159,
      "outputs": []
    },
    {
      "cell_type": "markdown",
      "metadata": {
        "id": "Ku4rcCGx5T3y"
      },
      "source": [
        "Let's test this behavior:"
      ]
    },
    {
      "cell_type": "code",
      "metadata": {
        "id": "NzC0mgbk5dp2",
        "colab": {
          "base_uri": "https://localhost:8080/"
        },
        "outputId": "989c29f3-2c0f-4a7b-ef6d-a885a14e9e58"
      },
      "source": [
        "n_output_nodes = 3\n",
        "model = IdentityModel(n_output_nodes)\n",
        "\n",
        "x_input = tf.constant([[1,2.]], shape=(1,2))\n",
        "'''TODO: pass the input into the model and call with and without the input identity option.'''\n",
        "out_activate = model.call(x_input)\n",
        "out_identity = model.call(x_input, isidentity=True)\n",
        "\n",
        "print(\"Network output with activation: {}; network identity output: {}\".format(out_activate.numpy(), out_identity.numpy()))"
      ],
      "execution_count": 160,
      "outputs": [
        {
          "output_type": "stream",
          "name": "stdout",
          "text": [
            "Network output with activation: [[0.5507852  0.5888797  0.54625654]]; network identity output: [[1. 2.]]\n"
          ]
        }
      ]
    },
    {
      "cell_type": "markdown",
      "metadata": {
        "id": "7V1dEqdk6VI5"
      },
      "source": [
        "Now that we have learned how to define `Layers` as well as neural networks in TensorFlow using both the `Sequential` and Subclassing APIs, we're ready to turn our attention to how to actually implement network training with backpropagation."
      ]
    },
    {
      "cell_type": "markdown",
      "metadata": {
        "id": "Xz83Zct88BDY"
      },
      "source": [
        "# **1.4 Automatic differentiation in TensorFlow**\n",
        "Automatic differentiation is one of the most important parts of TensorFlow and is the backbone of training with backpropagation. We will use the TensorFlow GradientTape `tf.GradientTape` to trace operations for computing gradients later.\n",
        "\n",
        "When a forward pass is made through the network, all forward-pass operations get recorded to a \"tape\"; then, to compute the gradient, the tape is played backwards. By default, the tape is discarded after it is played backwards; this means that a particular tf.GradientTape can only compute one gradient, and subsequent calls throw a runtime error. However, we can compute multiple gradients over the same computation by creating a persistent gradient tape.\n",
        "\n",
        "First, we will look at how we can compute gradients using GradientTape and access them for computation. We define the simple function $ y = x^2$ and compute the gradient:"
      ]
    },
    {
      "cell_type": "markdown",
      "metadata": {
        "id": "Z7BwJl1h6Zw7"
      },
      "source": [
        "#**More on Automatic Differentiation**\n",
        "---\n",
        "*   AD is also called\n",
        "  * algorithmic differentiation, computational differentiation or simply autodiff\n",
        "* Is a set of techniques to evaluate the derivative of a function specified by a computer program. \n",
        "* Exploits the fact that every computer program, no matter how complicated, executes a sequence of elementary arithmetic operations (addition, subtraction, multiplication, division, etc.) and elementary functions (exp, log, sin, cos, etc.). \n",
        "  * By applying the chain rule repeatedly to these operations, derivatives of arbitrary order can be computed automatically, accurately to working precision, and using at most a small constant factor more arithmetic operations than the original program.\n",
        "\n",
        "**Derivative**\n",
        "\n",
        "* In mathematics\n",
        "  * is the rate of change of a function with respect to a variable.\n",
        "  * is a continuous description of how a function changes with small changes in one or multiple variables.\n",
        "\n",
        "\n",
        "\n"
      ]
    },
    {
      "cell_type": "markdown",
      "metadata": {
        "id": "31K7ovH7YqDT"
      },
      "source": [
        "#**Calculus review:** \n",
        "\n",
        "$dy/dx(x^n$)= $(x^n$)' = $nx^(n-1)$\n",
        "\n",
        "where  $x=3, n=2$\n",
        "\n",
        "$dy/dx(x^2)$ = $(x^2$)' = $2x^(2-1)$ = $2x^1$ = $2x$ = $(2*3)$ = $6$"
      ]
    },
    {
      "cell_type": "code",
      "metadata": {
        "id": "tdkqk8pw5yJM"
      },
      "source": [
        "### Gradient computation with GradientTape ###\n",
        "\n",
        "# y = x^2\n",
        "# Example: x = 3.0\n",
        "x = tf.Variable(3.0)\n",
        "\n",
        "# Initiate the gradient tape\n",
        "with tf.GradientTape() as tape:\n",
        "  # Define the function\n",
        "  y = x * x\n",
        "# Access the gradient -- derivative of y with respect to x\n",
        "dy_dx = tape.gradient(y, x)\n",
        "\n",
        "assert dy_dx.numpy() == 6.0"
      ],
      "execution_count": 161,
      "outputs": []
    },
    {
      "cell_type": "markdown",
      "metadata": {
        "id": "JhU5metS5xF3"
      },
      "source": [
        "In training neural networks, we use differentiation and stochastic gradient descent (SGD) to optimize a loss function. Now that we have a sense of how `GradientTape` can be used to compute and access derivatives, we will look at an example where we use automatic differentiation and SGD to find the minimum of $L=(x-x_f)^2$. Here $x_f$ is a variable for a desired value we are trying to optimize for; $L$ represents a loss that we are trying to  minimize. While we can clearly solve this problem analytically ($x_{min}=x_f$), considering how we can compute this using `GradientTape` sets us up nicely for future labs where we use gradient descent to optimize entire neural network losses."
      ]
    },
    {
      "cell_type": "code",
      "metadata": {
        "attributes": {
          "classes": [
            "py"
          ],
          "id": ""
        },
        "id": "7g1yWiSXqEf-",
        "colab": {
          "base_uri": "https://localhost:8080/",
          "height": 316
        },
        "outputId": "5f5109b7-73a1-47d6-a1d9-4e43d2e380c2"
      },
      "source": [
        "### Function minimization with automatic differentiation and SGD ###\n",
        "\n",
        "# Initialize a random value for our initial x\n",
        "x = tf.Variable([tf.random.normal([1])])\n",
        "print(\"Initializing x={}\".format(x.numpy()))\n",
        "\n",
        "learning_rate = 1e-2 # learning rate for SGD\n",
        "history = []\n",
        "# Define the target value\n",
        "x_f = 4 # our truth\n",
        "\n",
        "# We will run SGD for a number of iterations. At each iteration, we compute the loss, \n",
        "#   compute the derivative of the loss with respect to x, and perform the SGD update.\n",
        "for i in range(500):\n",
        "  with tf.GradientTape() as tape:\n",
        "    '''TODO: define the loss as described above'''\n",
        "    loss = (x - x_f)**2\n",
        "\n",
        "  # loss minimization using gradient tape\n",
        "  grad = tape.gradient(loss, x) # compute the derivative of the loss with respect to x\n",
        "  new_x = x - learning_rate*grad # sgd update\n",
        "  x.assign(new_x) # update the value of x\n",
        "  history.append(x.numpy()[0])\n",
        "\n",
        "# Plot the evolution of x as we optimize towards x_f!\n",
        "plt.plot(history)\n",
        "plt.plot([0, 500],[x_f,x_f])\n",
        "plt.legend(('Predicted', 'True'))\n",
        "plt.xlabel('Iteration')\n",
        "plt.ylabel('x value')"
      ],
      "execution_count": 168,
      "outputs": [
        {
          "output_type": "stream",
          "name": "stdout",
          "text": [
            "Initializing x=[[0.5714776]]\n"
          ]
        },
        {
          "output_type": "execute_result",
          "data": {
            "text/plain": [
              "Text(0, 0.5, 'x value')"
            ]
          },
          "metadata": {},
          "execution_count": 168
        },
        {
          "output_type": "display_data",
          "data": {
            "text/plain": [
              "<Figure size 432x288 with 1 Axes>"
            ],
            "image/png": "[encoded data removed]"
          },
          "metadata": {
            "needs_background": "light"
          }
        }
      ]
    },
    {
      "cell_type": "markdown",
      "metadata": {
        "id": "pC7czCwk3ceH"
      },
      "source": [
        "`GradientTape` provides an extremely flexible framework for automatic differentiation. In order to back propagate errors through a neural network, we track forward passes on the Tape, use this information to determine the gradients, and then use these gradients for optimization using SGD."
      ]
    }
  ]
}